{
 "cells": [
  {
   "cell_type": "markdown",
   "metadata": {
    "collapsed": true
   },
   "source": [
    "# Create a workflow for the Kaggle Titanic competition"
   ]
  },
  {
   "cell_type": "code",
   "execution_count": 2,
   "metadata": {
    "collapsed": false
   },
   "outputs": [
    {
     "data": {
      "text/html": [
       "<div>\n",
       "<style scoped>\n",
       "    .dataframe tbody tr th:only-of-type {\n",
       "        vertical-align: middle;\n",
       "    }\n",
       "\n",
       "    .dataframe tbody tr th {\n",
       "        vertical-align: top;\n",
       "    }\n",
       "\n",
       "    .dataframe thead th {\n",
       "        text-align: right;\n",
       "    }\n",
       "</style>\n",
       "<table border=\"1\" class=\"dataframe\">\n",
       "  <thead>\n",
       "    <tr style=\"text-align: right;\">\n",
       "      <th></th>\n",
       "      <th>PassengerId</th>\n",
       "      <th>Pclass</th>\n",
       "      <th>Name</th>\n",
       "      <th>Sex</th>\n",
       "      <th>Age</th>\n",
       "      <th>SibSp</th>\n",
       "      <th>Parch</th>\n",
       "      <th>Ticket</th>\n",
       "      <th>Fare</th>\n",
       "      <th>Cabin</th>\n",
       "      <th>Embarked</th>\n",
       "    </tr>\n",
       "  </thead>\n",
       "  <tbody>\n",
       "    <tr>\n",
       "      <th>0</th>\n",
       "      <td>892</td>\n",
       "      <td>3</td>\n",
       "      <td>Kelly, Mr. James</td>\n",
       "      <td>male</td>\n",
       "      <td>34.5</td>\n",
       "      <td>0</td>\n",
       "      <td>0</td>\n",
       "      <td>330911</td>\n",
       "      <td>7.8292</td>\n",
       "      <td>NaN</td>\n",
       "      <td>Q</td>\n",
       "    </tr>\n",
       "    <tr>\n",
       "      <th>1</th>\n",
       "      <td>893</td>\n",
       "      <td>3</td>\n",
       "      <td>Wilkes, Mrs. James (Ellen Needs)</td>\n",
       "      <td>female</td>\n",
       "      <td>47.0</td>\n",
       "      <td>1</td>\n",
       "      <td>0</td>\n",
       "      <td>363272</td>\n",
       "      <td>7.0000</td>\n",
       "      <td>NaN</td>\n",
       "      <td>S</td>\n",
       "    </tr>\n",
       "    <tr>\n",
       "      <th>2</th>\n",
       "      <td>894</td>\n",
       "      <td>2</td>\n",
       "      <td>Myles, Mr. Thomas Francis</td>\n",
       "      <td>male</td>\n",
       "      <td>62.0</td>\n",
       "      <td>0</td>\n",
       "      <td>0</td>\n",
       "      <td>240276</td>\n",
       "      <td>9.6875</td>\n",
       "      <td>NaN</td>\n",
       "      <td>Q</td>\n",
       "    </tr>\n",
       "  </tbody>\n",
       "</table>\n",
       "</div>"
      ],
      "text/plain": [
       "   PassengerId  Pclass                              Name     Sex   Age  SibSp  \\\n",
       "0          892       3                  Kelly, Mr. James    male  34.5      0   \n",
       "1          893       3  Wilkes, Mrs. James (Ellen Needs)  female  47.0      1   \n",
       "2          894       2         Myles, Mr. Thomas Francis    male  62.0      0   \n",
       "\n",
       "   Parch  Ticket    Fare Cabin Embarked  \n",
       "0      0  330911  7.8292   NaN        Q  \n",
       "1      0  363272  7.0000   NaN        S  \n",
       "2      0  240276  9.6875   NaN        Q  "
      ]
     },
     "execution_count": 2,
     "metadata": {},
     "output_type": "execute_result"
    }
   ],
   "source": [
    "# import the data\n",
    "import pandas as pd\n",
    "import numpy as np\n",
    "train = pd.read_csv('train.csv')\n",
    "holdout = pd.read_csv('test.csv')\n",
    "holdout.head(3)\n"
   ]
  },
  {
   "cell_type": "code",
   "execution_count": 3,
   "metadata": {
    "collapsed": true
   },
   "outputs": [],
   "source": [
    "# %load functions.py\n",
    "def process_missing(df):\n",
    "    \"\"\"Handle various missing values from the data set\n",
    "\n",
    "    Usage\n",
    "    ------\n",
    "\n",
    "    holdout = process_missing(holdout)\n",
    "    \"\"\"\n",
    "    df[\"Fare\"] = df[\"Fare\"].fillna(train[\"Fare\"].mean())\n",
    "    df[\"Embarked\"] = df[\"Embarked\"].fillna(\"S\")\n",
    "    return df\n",
    "\n",
    "def process_age(df):\n",
    "    \"\"\"Process the Age column into pre-defined 'bins' \n",
    "\n",
    "    Usage\n",
    "    ------\n",
    "\n",
    "    train = process_age(train)\n",
    "    \"\"\"\n",
    "    df[\"Age\"] = df[\"Age\"].fillna(-0.5)\n",
    "    cut_points = [-1,0,5,12,18,35,60,100]\n",
    "    label_names = [\"Missing\",\"Infant\",\"Child\",\"Teenager\",\"Young Adult\",\"Adult\",\"Senior\"]\n",
    "    df[\"Age_categories\"] = pd.cut(df[\"Age\"],cut_points,labels=label_names)\n",
    "    return df\n",
    "\n",
    "def process_fare(df):\n",
    "    \"\"\"Process the Fare column into pre-defined 'bins' \n",
    "\n",
    "    Usage\n",
    "    ------\n",
    "\n",
    "    train = process_fare(train)\n",
    "    \"\"\"\n",
    "    cut_points = [-1,12,50,100,1000]\n",
    "    label_names = [\"0-12\",\"12-50\",\"50-100\",\"100+\"]\n",
    "    df[\"Fare_categories\"] = pd.cut(df[\"Fare\"],cut_points,labels=label_names)\n",
    "    return df\n",
    "\n",
    "def process_cabin(df):\n",
    "    \"\"\"Process the Cabin column into pre-defined 'bins' \n",
    "\n",
    "    Usage\n",
    "    ------\n",
    "\n",
    "    train process_cabin(train)\n",
    "    \"\"\"\n",
    "    df[\"Cabin_type\"] = df[\"Cabin\"].str[0]\n",
    "    df[\"Cabin_type\"] = df[\"Cabin_type\"].fillna(\"Unknown\")\n",
    "    df = df.drop('Cabin',axis=1)\n",
    "    return df\n",
    "\n",
    "def process_titles(df):\n",
    "    \"\"\"Extract and categorize the title from the name column \n",
    "\n",
    "    Usage\n",
    "    ------\n",
    "\n",
    "    train = process_titles(train)\n",
    "    \"\"\"\n",
    "    titles = {\n",
    "        \"Mr\" :         \"Mr\",\n",
    "        \"Mme\":         \"Mrs\",\n",
    "        \"Ms\":          \"Mrs\",\n",
    "        \"Mrs\" :        \"Mrs\",\n",
    "        \"Master\" :     \"Master\",\n",
    "        \"Mlle\":        \"Miss\",\n",
    "        \"Miss\" :       \"Miss\",\n",
    "        \"Capt\":        \"Officer\",\n",
    "        \"Col\":         \"Officer\",\n",
    "        \"Major\":       \"Officer\",\n",
    "        \"Dr\":          \"Officer\",\n",
    "        \"Rev\":         \"Officer\",\n",
    "        \"Jonkheer\":    \"Royalty\",\n",
    "        \"Don\":         \"Royalty\",\n",
    "        \"Sir\" :        \"Royalty\",\n",
    "        \"Countess\":    \"Royalty\",\n",
    "        \"Dona\":        \"Royalty\",\n",
    "        \"Lady\" :       \"Royalty\"\n",
    "    }\n",
    "    extracted_titles = df[\"Name\"].str.extract(' ([A-Za-z]+)\\.',expand=False)\n",
    "    df[\"Title\"] = extracted_titles.map(titles)\n",
    "    return df\n",
    "\n",
    "def create_dummies(df,column_name):\n",
    "    \"\"\"Create Dummy Columns (One Hot Encoding) from a single Column\n",
    "\n",
    "    Usage\n",
    "    ------\n",
    "\n",
    "    train = create_dummies(train,\"Age\")\n",
    "    \"\"\"\n",
    "    dummies = pd.get_dummies(df[column_name],prefix=column_name)\n",
    "    df = pd.concat([df,dummies],axis=1)\n",
    "    return df"
   ]
  },
  {
   "cell_type": "code",
   "execution_count": 4,
   "metadata": {
    "collapsed": false
   },
   "outputs": [],
   "source": [
    "def clean(df):\n",
    "    df = process_missing(df)\n",
    "    df = process_age(df)\n",
    "    df = process_fare(df)\n",
    "    df = process_titles(df)\n",
    "    df = process_cabin(df)\n",
    "    df = create_dummies(df,\"Age_categories\")\n",
    "    df = create_dummies(df,\"Fare_categories\")\n",
    "    df = create_dummies(df,\"Title\")\n",
    "    df = create_dummies(df,\"Cabin_type\")\n",
    "    df = create_dummies(df,\"Sex\")\n",
    "    return df\n",
    "\n",
    "train = clean(train)\n",
    "holdout = clean(holdout)"
   ]
  },
  {
   "cell_type": "code",
   "execution_count": 5,
   "metadata": {
    "collapsed": false
   },
   "outputs": [
    {
     "data": {
      "text/plain": [
       "0    608\n",
       "1    209\n",
       "2     28\n",
       "4     18\n",
       "3     16\n",
       "8      7\n",
       "5      5\n",
       "Name: SibSp, dtype: int64"
      ]
     },
     "execution_count": 5,
     "metadata": {},
     "output_type": "execute_result"
    }
   ],
   "source": [
    "train['SibSp'].value_counts()"
   ]
  },
  {
   "cell_type": "code",
   "execution_count": 6,
   "metadata": {
    "collapsed": false
   },
   "outputs": [
    {
     "data": {
      "text/plain": [
       "0    678\n",
       "1    118\n",
       "2     80\n",
       "5      5\n",
       "3      5\n",
       "4      4\n",
       "6      1\n",
       "Name: Parch, dtype: int64"
      ]
     },
     "execution_count": 6,
     "metadata": {},
     "output_type": "execute_result"
    }
   ],
   "source": [
    "train['Parch'].value_counts()"
   ]
  },
  {
   "cell_type": "code",
   "execution_count": 7,
   "metadata": {
    "collapsed": false
   },
   "outputs": [
    {
     "data": {
      "text/plain": [
       "<matplotlib.axes._subplots.AxesSubplot at 0x7fab70d8eeb8>"
      ]
     },
     "execution_count": 7,
     "metadata": {},
     "output_type": "execute_result"
    },
    {
     "data": {
      "text/plain": [
       "<matplotlib.figure.Figure at 0x7fab72620048>"
      ]
     },
     "metadata": {},
     "output_type": "display_data"
    },
    {
     "data": {
      "image/png": "[encoded data removed]",
      "text/plain": [
       "<matplotlib.figure.Figure at 0x7fab70d8e630>"
      ]
     },
     "metadata": {},
     "output_type": "display_data"
    }
   ],
   "source": [
    "import matplotlib.pyplot as plt\n",
    "%matplotlib inline\n",
    "fig = plt.figure(1)\n",
    "train[['SibSp', 'Parch']].plot.hist(alpha=0.5)"
   ]
  },
  {
   "cell_type": "code",
   "execution_count": 8,
   "metadata": {
    "collapsed": false
   },
   "outputs": [
    {
     "data": {
      "text/plain": [
       "<matplotlib.axes._subplots.AxesSubplot at 0x7fab6e969a20>"
      ]
     },
     "execution_count": 8,
     "metadata": {},
     "output_type": "execute_result"
    },
    {
     "data": {
      "text/plain": [
       "<matplotlib.figure.Figure at 0x7fab6eac4c88>"
      ]
     },
     "metadata": {},
     "output_type": "display_data"
    },
    {
     "data": {
      "image/png": "[encoded data removed]",
      "text/plain": [
       "<matplotlib.figure.Figure at 0x7fab6e9d9ba8>"
      ]
     },
     "metadata": {},
     "output_type": "display_data"
    },
    {
     "data": {
      "image/png": "[encoded data removed]",
      "text/plain": [
       "<matplotlib.figure.Figure at 0x7fab6eac4780>"
      ]
     },
     "metadata": {},
     "output_type": "display_data"
    }
   ],
   "source": [
    "pivot = train.pivot_table(values='Survived', index='SibSp')\n",
    "fig = plt.figure(2)\n",
    "pivot.plot.bar()\n",
    "\n",
    "pivot2 = train.pivot_table(values='Survived', index='Parch')\n",
    "fig2 = plt.figure(3)\n",
    "pivot2.plot.bar()"
   ]
  },
  {
   "cell_type": "code",
   "execution_count": 9,
   "metadata": {
    "collapsed": false
   },
   "outputs": [
    {
     "data": {
      "text/plain": [
       "<matplotlib.figure.Figure at 0x7fab6e9f6630>"
      ]
     },
     "metadata": {},
     "output_type": "display_data"
    },
    {
     "data": {
      "image/png": "[encoded data removed]",
      "text/plain": [
       "<matplotlib.figure.Figure at 0x7fab6e97aba8>"
      ]
     },
     "metadata": {},
     "output_type": "display_data"
    }
   ],
   "source": [
    "train['family'] = train['SibSp']+train['Parch']\n",
    "pivot3 = train.pivot_table(values='Survived', index='family')\n",
    "fig4 = plt.figure(4)\n",
    "pivot3.plot.bar()\n",
    "train.drop('family', axis=1, inplace=True)"
   ]
  },
  {
   "cell_type": "markdown",
   "metadata": {},
   "source": [
    "### People with 1-3 family members on board have higher chance of survival. What about grouping passenger by whether or not having any family member on board. "
   ]
  },
  {
   "cell_type": "code",
   "execution_count": 10,
   "metadata": {
    "collapsed": true
   },
   "outputs": [],
   "source": [
    "def familyornot(df):\n",
    "    df['family'] = df['SibSp'] + df['Parch']\n",
    "    df['isalone'] = [0 if x==0 else 1 for x in df['family']]\n",
    "    df.drop('family', axis=1, inplace=True)\n",
    "    return df\n",
    "\n",
    "train = familyornot(train)\n",
    "holdout = familyornot(holdout)\n"
   ]
  },
  {
   "cell_type": "code",
   "execution_count": 11,
   "metadata": {
    "collapsed": false
   },
   "outputs": [
    {
     "data": {
      "text/plain": [
       "<matplotlib.axes._subplots.AxesSubplot at 0x7fab6e8753c8>"
      ]
     },
     "execution_count": 11,
     "metadata": {},
     "output_type": "execute_result"
    },
    {
     "data": {
      "text/plain": [
       "<matplotlib.figure.Figure at 0x7fab6e90cdd8>"
      ]
     },
     "metadata": {},
     "output_type": "display_data"
    },
    {
     "data": {
      "image/png": "[encoded data removed]",
      "text/plain": [
       "<matplotlib.figure.Figure at 0x7fab6e9600f0>"
      ]
     },
     "metadata": {},
     "output_type": "display_data"
    }
   ],
   "source": [
    "pivot4 = train.pivot_table(values='Survived', index='isalone')\n",
    "fig5 = plt.figure(5)\n",
    "pivot4.plot.bar()\n"
   ]
  },
  {
   "cell_type": "markdown",
   "metadata": {},
   "source": [
    "### People with one or more family member on board had 20% more likelihood of survival than people who were alone."
   ]
  },
  {
   "cell_type": "code",
   "execution_count": 12,
   "metadata": {
    "collapsed": false
   },
   "outputs": [
    {
     "name": "stdout",
     "output_type": "stream",
     "text": [
      "<class 'pandas.core.frame.DataFrame'>\n",
      "RangeIndex: 891 entries, 0 to 890\n",
      "Data columns (total 44 columns):\n",
      "PassengerId                   891 non-null int64\n",
      "Survived                      891 non-null int64\n",
      "Pclass                        891 non-null int64\n",
      "Name                          891 non-null object\n",
      "Sex                           891 non-null object\n",
      "Age                           891 non-null float64\n",
      "SibSp                         891 non-null int64\n",
      "Parch                         891 non-null int64\n",
      "Ticket                        891 non-null object\n",
      "Fare                          891 non-null float64\n",
      "Embarked                      891 non-null object\n",
      "Age_categories                891 non-null category\n",
      "Fare_categories               891 non-null category\n",
      "Title                         891 non-null object\n",
      "Cabin_type                    891 non-null object\n",
      "Age_categories_Missing        891 non-null uint8\n",
      "Age_categories_Infant         891 non-null uint8\n",
      "Age_categories_Child          891 non-null uint8\n",
      "Age_categories_Teenager       891 non-null uint8\n",
      "Age_categories_Young Adult    891 non-null uint8\n",
      "Age_categories_Adult          891 non-null uint8\n",
      "Age_categories_Senior         891 non-null uint8\n",
      "Fare_categories_0-12          891 non-null uint8\n",
      "Fare_categories_12-50         891 non-null uint8\n",
      "Fare_categories_50-100        891 non-null uint8\n",
      "Fare_categories_100+          891 non-null uint8\n",
      "Title_Master                  891 non-null uint8\n",
      "Title_Miss                    891 non-null uint8\n",
      "Title_Mr                      891 non-null uint8\n",
      "Title_Mrs                     891 non-null uint8\n",
      "Title_Officer                 891 non-null uint8\n",
      "Title_Royalty                 891 non-null uint8\n",
      "Cabin_type_A                  891 non-null uint8\n",
      "Cabin_type_B                  891 non-null uint8\n",
      "Cabin_type_C                  891 non-null uint8\n",
      "Cabin_type_D                  891 non-null uint8\n",
      "Cabin_type_E                  891 non-null uint8\n",
      "Cabin_type_F                  891 non-null uint8\n",
      "Cabin_type_G                  891 non-null uint8\n",
      "Cabin_type_T                  891 non-null uint8\n",
      "Cabin_type_Unknown            891 non-null uint8\n",
      "Sex_female                    891 non-null uint8\n",
      "Sex_male                      891 non-null uint8\n",
      "isalone                       891 non-null int64\n",
      "dtypes: category(2), float64(2), int64(6), object(6), uint8(28)\n",
      "memory usage: 124.2+ KB\n",
      "<class 'pandas.core.frame.DataFrame'>\n",
      "RangeIndex: 891 entries, 0 to 890\n",
      "Data columns (total 38 columns):\n",
      "PassengerId                   891 non-null int64\n",
      "Survived                      891 non-null int64\n",
      "Pclass                        891 non-null int64\n",
      "Age                           891 non-null float64\n",
      "SibSp                         891 non-null int64\n",
      "Parch                         891 non-null int64\n",
      "Fare                          891 non-null float64\n",
      "Age_categories                891 non-null category\n",
      "Fare_categories               891 non-null category\n",
      "Age_categories_Missing        891 non-null uint8\n",
      "Age_categories_Infant         891 non-null uint8\n",
      "Age_categories_Child          891 non-null uint8\n",
      "Age_categories_Teenager       891 non-null uint8\n",
      "Age_categories_Young Adult    891 non-null uint8\n",
      "Age_categories_Adult          891 non-null uint8\n",
      "Age_categories_Senior         891 non-null uint8\n",
      "Fare_categories_0-12          891 non-null uint8\n",
      "Fare_categories_12-50         891 non-null uint8\n",
      "Fare_categories_50-100        891 non-null uint8\n",
      "Fare_categories_100+          891 non-null uint8\n",
      "Title_Master                  891 non-null uint8\n",
      "Title_Miss                    891 non-null uint8\n",
      "Title_Mr                      891 non-null uint8\n",
      "Title_Mrs                     891 non-null uint8\n",
      "Title_Officer                 891 non-null uint8\n",
      "Title_Royalty                 891 non-null uint8\n",
      "Cabin_type_A                  891 non-null uint8\n",
      "Cabin_type_B                  891 non-null uint8\n",
      "Cabin_type_C                  891 non-null uint8\n",
      "Cabin_type_D                  891 non-null uint8\n",
      "Cabin_type_E                  891 non-null uint8\n",
      "Cabin_type_F                  891 non-null uint8\n",
      "Cabin_type_G                  891 non-null uint8\n",
      "Cabin_type_T                  891 non-null uint8\n",
      "Cabin_type_Unknown            891 non-null uint8\n",
      "Sex_female                    891 non-null uint8\n",
      "Sex_male                      891 non-null uint8\n",
      "isalone                       891 non-null int64\n",
      "dtypes: category(2), float64(2), int64(6), uint8(28)\n",
      "memory usage: 82.4 KB\n"
     ]
    }
   ],
   "source": [
    "train.info()\n",
    "temp = train.select_dtypes(exclude='object')\n",
    "temp.info()\n",
    "temp.isnull().sum()\n",
    "feature_cols = temp.columns[7:]\n",
    "all_X = train[feature_cols]\n",
    "all_y = train['Survived']"
   ]
  },
  {
   "cell_type": "code",
   "execution_count": 13,
   "metadata": {
    "collapsed": false
   },
   "outputs": [
    {
     "name": "stdout",
     "output_type": "stream",
     "text": [
      "Index(['Age_categories_Missing', 'Age_categories_Infant',\n",
      "       'Age_categories_Child', 'Age_categories_Teenager',\n",
      "       'Age_categories_Young Adult', 'Age_categories_Adult',\n",
      "       'Age_categories_Senior', 'Fare_categories_0-12',\n",
      "       'Fare_categories_12-50', 'Fare_categories_50-100',\n",
      "       'Fare_categories_100+', 'Title_Master', 'Title_Miss', 'Title_Mr',\n",
      "       'Title_Mrs', 'Title_Officer', 'Title_Royalty', 'Cabin_type_A',\n",
      "       'Cabin_type_B', 'Cabin_type_C', 'Cabin_type_D', 'Cabin_type_E',\n",
      "       'Cabin_type_F', 'Cabin_type_G', 'Cabin_type_T', 'Cabin_type_Unknown',\n",
      "       'Sex_female', 'Sex_male'],\n",
      "      dtype='object')\n",
      "<class 'pandas.core.frame.DataFrame'>\n",
      "RangeIndex: 891 entries, 0 to 890\n",
      "Data columns (total 28 columns):\n",
      "Age_categories_Missing        891 non-null uint8\n",
      "Age_categories_Infant         891 non-null uint8\n",
      "Age_categories_Child          891 non-null uint8\n",
      "Age_categories_Teenager       891 non-null uint8\n",
      "Age_categories_Young Adult    891 non-null uint8\n",
      "Age_categories_Adult          891 non-null uint8\n",
      "Age_categories_Senior         891 non-null uint8\n",
      "Fare_categories_0-12          891 non-null uint8\n",
      "Fare_categories_12-50         891 non-null uint8\n",
      "Fare_categories_50-100        891 non-null uint8\n",
      "Fare_categories_100+          891 non-null uint8\n",
      "Title_Master                  891 non-null uint8\n",
      "Title_Miss                    891 non-null uint8\n",
      "Title_Mr                      891 non-null uint8\n",
      "Title_Mrs                     891 non-null uint8\n",
      "Title_Officer                 891 non-null uint8\n",
      "Title_Royalty                 891 non-null uint8\n",
      "Cabin_type_A                  891 non-null uint8\n",
      "Cabin_type_B                  891 non-null uint8\n",
      "Cabin_type_C                  891 non-null uint8\n",
      "Cabin_type_D                  891 non-null uint8\n",
      "Cabin_type_E                  891 non-null uint8\n",
      "Cabin_type_F                  891 non-null uint8\n",
      "Cabin_type_G                  891 non-null uint8\n",
      "Cabin_type_T                  891 non-null uint8\n",
      "Cabin_type_Unknown            891 non-null uint8\n",
      "Sex_female                    891 non-null uint8\n",
      "Sex_male                      891 non-null uint8\n",
      "dtypes: uint8(28)\n",
      "memory usage: 24.4 KB\n",
      "None\n",
      "Index(['Title_Mr', 'Title_Mrs', 'Cabin_type_Unknown', 'Sex_female'], dtype='object')\n"
     ]
    },
    {
     "name": "stderr",
     "output_type": "stream",
     "text": [
      "/dataquest/system/env/python3/lib/python3.4/site-packages/sklearn/utils/__init__.py:54: FutureWarning: Conversion of the second argument of issubdtype from `int` to `np.signedinteger` is deprecated. In future, it will be treated as `np.int64 == np.dtype(int).type`.\n",
      "  if np.issubdtype(mask.dtype, np.int):\n"
     ]
    }
   ],
   "source": [
    "from sklearn.feature_selection import RFECV\n",
    "from sklearn.ensemble import RandomForestClassifier\n",
    "\n",
    "def select_features(df):\n",
    "    feature_cols = df.select_dtypes(include='uint8').columns\n",
    "    print(feature_cols)\n",
    "    all_X = df[feature_cols]\n",
    "    print(all_X.info())\n",
    "    all_y = df['Survived']\n",
    "    model = RandomForestClassifier(random_state=1)\n",
    "    selector = RFECV(model, cv=10)\n",
    "    selector.fit(all_X, all_y)\n",
    "    best_cols = feature_cols[selector.support_]\n",
    "    print(best_cols)\n",
    "    return best_cols\n",
    "\n",
    "best_feature_cols = select_features(train)    \n",
    "    "
   ]
  },
  {
   "cell_type": "markdown",
   "metadata": {},
   "source": [
    "### Best feature columns turn out to be only 4: 'Title_Mr', 'Title_Mrs', 'Cabin_type_Unknown', 'Sex_female'. Check correlation coefficient with 'Survived' and confirm"
   ]
  },
  {
   "cell_type": "code",
   "execution_count": 14,
   "metadata": {
    "collapsed": false
   },
   "outputs": [
    {
     "data": {
      "text/plain": [
       "Title_Mr                     -0.549199\n",
       "Sex_male                     -0.543351\n",
       "Cabin_type_Unknown           -0.316912\n",
       "Fare_categories_0-12         -0.287849\n",
       "Age_categories_Missing       -0.092197\n",
       "Age_categories_Senior        -0.051224\n",
       "Title_Officer                -0.031316\n",
       "Cabin_type_T                 -0.026456\n",
       "Age_categories_Child         -0.008328\n",
       "Age_categories_Young Adult   -0.001949\n",
       "Cabin_type_G                  0.016040\n",
       "Age_categories_Adult          0.017590\n",
       "Cabin_type_A                  0.022287\n",
       "Age_categories_Teenager       0.026859\n",
       "Title_Royalty                 0.033391\n",
       "Cabin_type_F                  0.057935\n",
       "Fare_categories_12-50         0.065790\n",
       "Title_Master                  0.085221\n",
       "Cabin_type_C                  0.114652\n",
       "Cabin_type_E                  0.145321\n",
       "Age_categories_Infant         0.150304\n",
       "Cabin_type_D                  0.150716\n",
       "Cabin_type_B                  0.175095\n",
       "Fare_categories_100+          0.182033\n",
       "Fare_categories_50-100        0.205384\n",
       "Title_Miss                    0.332795\n",
       "Title_Mrs                     0.344935\n",
       "Sex_female                    0.543351\n",
       "Survived                      1.000000\n",
       "Name: Survived, dtype: float64"
      ]
     },
     "execution_count": 14,
     "metadata": {},
     "output_type": "execute_result"
    }
   ],
   "source": [
    "train_X = train[train.select_dtypes(include='uint8').columns]\n",
    "train_y = train['Survived']\n",
    "train_Xy = pd.concat([train_X, train_y], axis=1)\n",
    "train_Xy.corr()['Survived'].sort_values()"
   ]
  },
  {
   "cell_type": "code",
   "execution_count": 16,
   "metadata": {
    "collapsed": false
   },
   "outputs": [
    {
     "data": {
      "image/png": "[encoded data removed]",
      "text/plain": [
       "<matplotlib.figure.Figure at 0x7fab64947d68>"
      ]
     },
     "metadata": {},
     "output_type": "display_data"
    }
   ],
   "source": [
    "import seaborn as sns\n",
    "def plot_correlation_heatmap(df):\n",
    "    corr = df.corr()\n",
    "    \n",
    "    sns.set(style=\"white\")\n",
    "    mask = np.zeros_like(corr, dtype=np.bool)\n",
    "    mask[np.triu_indices_from(mask)] = True\n",
    "\n",
    "    f, ax = plt.subplots(figsize=(11, 9))\n",
    "    cmap = sns.diverging_palette(220, 10, as_cmap=True)\n",
    "\n",
    "\n",
    "    sns.heatmap(corr, mask=mask, cmap=cmap, vmax=.3, center=0,\n",
    "            square=True, linewidths=.5, cbar_kws={\"shrink\": .5})\n",
    "    plt.show()\n",
    "\n",
    "plot_correlation_heatmap(train_Xy)\n"
   ]
  },
  {
   "cell_type": "markdown",
   "metadata": {},
   "source": [
    "## Hyperparameter optimization"
   ]
  },
  {
   "cell_type": "code",
   "execution_count": 49,
   "metadata": {
    "collapsed": false
   },
   "outputs": [
    {
     "name": "stdout",
     "output_type": "stream",
     "text": [
      "LogisticRegression\n",
      "{'solver': 'newton-cg'}\n",
      "0.7957351290684624\n",
      "KNeighborsClassifier\n",
      "{'weights': 'distance', 'p': 1, 'algorithm': 'ball_tree', 'n_neighbors': 11}\n",
      "0.7912457912457912\n",
      "RandomForestClassifier\n",
      "{'min_samples_split': 5, 'n_estimators': 6, 'max_depth': 2, 'min_samples_leaf': 8, 'criterion': 'gini', 'max_features': 'log2'}\n",
      "0.7968574635241302\n"
     ]
    }
   ],
   "source": [
    "from sklearn.model_selection import GridSearchCV\n",
    "from sklearn.neighbors import KNeighborsClassifier\n",
    "from sklearn.linear_model import LogisticRegression\n",
    "\n",
    "def select_model(df, feature_cols):\n",
    "    all_X = df[feature_cols]\n",
    "    all_y = df['Survived']\n",
    "    dict_list = [{'name': 'LogisticRegression',\n",
    "                  'estimator': LogisticRegression(),\n",
    "                 'hyperparameters':\n",
    "                     {\"solver\": [\"newton-cg\", \"lbfgs\", \"liblinear\"]\n",
    "                     } \n",
    "                }, \n",
    "                 {'name': 'KNeighborsClassifier',\n",
    "                  'estimator': KNeighborsClassifier(),\n",
    "                 'hyperparameters':\n",
    "                      {\"n_neighbors\": range(1,20,2),\n",
    "                       \"weights\": [\"distance\", \"uniform\"],\n",
    "                       \"algorithm\": [\"ball_tree\", \"kd_tree\", \"brute\"],\n",
    "                       \"p\": [1,2],\n",
    "                       }\n",
    "                 },\n",
    "                 {'name': 'RandomForestClassifier',\n",
    "                  'estimator': RandomForestClassifier(),\n",
    "                  'hyperparameters':\n",
    "                      {\"n_estimators\": [4, 6, 9],\n",
    "                       \"criterion\": [\"entropy\", \"gini\"],\n",
    "                       \"max_depth\": [2, 5, 10],\n",
    "                       \"max_features\": [\"log2\", \"sqrt\"],\n",
    "                       \"min_samples_leaf\": [1, 5, 8],\n",
    "                       \"min_samples_split\": [2, 3, 5]                          \n",
    "                      }                     \n",
    "                 }]\n",
    "    for item in dict_list:\n",
    "        model = item['name']\n",
    "        print(model)\n",
    "        grid = GridSearchCV(item['estimator'], param_grid=item['hyperparameters'], cv=10)\n",
    "        grid.fit(all_X, all_y)\n",
    "        item['best_param'] = grid.best_params_\n",
    "        item['best_score'] = grid.best_score_\n",
    "        print(item['best_param'])\n",
    "        print(item['best_score'])\n",
    "    return dict_list\n",
    "\n",
    "best_models = select_model(train, best_feature_cols)\n",
    "    "
   ]
  },
  {
   "cell_type": "code",
   "execution_count": 54,
   "metadata": {
    "collapsed": false
   },
   "outputs": [
    {
     "data": {
      "text/plain": [
       "RandomForestClassifier(bootstrap=True, class_weight=None, criterion='gini',\n",
       "            max_depth=None, max_features='auto', max_leaf_nodes=None,\n",
       "            min_impurity_split=1e-07, min_samples_leaf=1,\n",
       "            min_samples_split=2, min_weight_fraction_leaf=0.0,\n",
       "            n_estimators=10, n_jobs=1, oob_score=False, random_state=None,\n",
       "            verbose=0, warm_start=False)"
      ]
     },
     "execution_count": 54,
     "metadata": {},
     "output_type": "execute_result"
    }
   ],
   "source": [
    "best_models[2]['estimator']"
   ]
  },
  {
   "cell_type": "markdown",
   "metadata": {},
   "source": [
    "### The best model is RandomForest and it gives an accuracy score of 0.7968 for the trainig set. "
   ]
  },
  {
   "cell_type": "markdown",
   "metadata": {},
   "source": [
    "## Apply this model on holdout set and submit results to Kaggle"
   ]
  },
  {
   "cell_type": "code",
   "execution_count": 58,
   "metadata": {
    "collapsed": false
   },
   "outputs": [],
   "source": [
    "def save_submission_file(model, cols, file):\n",
    "    model.fit(train[cols], train['Survived'])\n",
    "    predictions = model.predict(holdout[cols])\n",
    "    submission = pd.DataFrame()\n",
    "    submission['PassengerId'] = holdout['PassengerId']\n",
    "    submission['Survived'] = predictions\n",
    "    submission.to_csv(file, index=False)\n",
    "\n",
    "# find the best model\n",
    "\n",
    "save_submission_file(best_models[2]['estimator'], best_feature_cols, 'sub_Titanic_JayZhu.csv')"
   ]
  }
 ],
 "metadata": {
  "kernelspec": {
   "display_name": "Python 3",
   "language": "python",
   "name": "python3"
  },
  "language_info": {
   "codemirror_mode": {
    "name": "ipython",
    "version": 3
   },
   "file_extension": ".py",
   "mimetype": "text/x-python",
   "name": "python",
   "nbconvert_exporter": "python",
   "pygments_lexer": "ipython3",
   "version": "3.4.3"
  }
 },
 "nbformat": 4,
 "nbformat_minor": 2
}
